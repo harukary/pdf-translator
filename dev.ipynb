{
 "cells": [
  {
   "cell_type": "code",
   "execution_count": 1,
   "metadata": {},
   "outputs": [],
   "source": [
    "import openai; openai.api_key = open('open_ai.key', 'r').read()"
   ]
  },
  {
   "cell_type": "code",
   "execution_count": 2,
   "metadata": {},
   "outputs": [],
   "source": [
    "def chat_complete(messages, max_tokens=1024, temperature=0.5, debug=False):\n",
    "    stop = False\n",
    "    res = ''\n",
    "    if debug:\n",
    "        for m in messages:\n",
    "            print(m[\"role\"],'\\t',\"-\"*30)\n",
    "            print(m[\"content\"])\n",
    "            print()\n",
    "    total_tokens = 0\n",
    "    last_token = 0\n",
    "    while not stop:\n",
    "        success = False\n",
    "        while not success:\n",
    "            try:\n",
    "                response = openai.ChatCompletion.create(\n",
    "                    model=\"gpt-3.5-turbo-0301\", messages=messages,\n",
    "                    temperature=temperature, max_tokens=max_tokens\n",
    "                )\n",
    "                success = True\n",
    "                res += response.choices[0].message.content\n",
    "                total_tokens += response.usage.total_tokens\n",
    "                last_token = response.usage.total_tokens\n",
    "                # if debug:\n",
    "                #     print(json.dumps(response.usage),response.choices[0].message.content.replace('\\n',' '))\n",
    "                if response.choices[0].finish_reason == 'stop':\n",
    "                    stop = True\n",
    "                else:\n",
    "                    messages.append({\"role\": 'user', \"content\": response.choices[0].message.content})\n",
    "            except Exception as e:\n",
    "                print(e)\n",
    "                # time.sleep(5)\n",
    "    if debug:\n",
    "        print('assistant','\\t',\"-\"*30)\n",
    "        print(res, '\\n')\n",
    "        print('usage','\\t',\"-\"*30)\n",
    "        print('last:', last_token, 'total:', total_tokens)\n",
    "    return res"
   ]
  },
  {
   "cell_type": "code",
   "execution_count": null,
   "metadata": {},
   "outputs": [],
   "source": [
    "def translate(text,debug=False):\n",
    "    messages = [\n",
    "        {'role': 'system', 'content': \"あなたの役割は論文を翻訳することです。\"},\n",
    "        {'role': 'user', 'content': text},\n",
    "    ]\n",
    "    res = chat_complete(messages,max_tokens=4000, temperature=0., debug=debug)\n",
    "    return(res)"
   ]
  }
 ],
 "metadata": {
  "kernelspec": {
   "display_name": ".venv",
   "language": "python",
   "name": "python3"
  },
  "language_info": {
   "codemirror_mode": {
    "name": "ipython",
    "version": 3
   },
   "file_extension": ".py",
   "mimetype": "text/x-python",
   "name": "python",
   "nbconvert_exporter": "python",
   "pygments_lexer": "ipython3",
   "version": "3.9.7"
  },
  "orig_nbformat": 4
 },
 "nbformat": 4,
 "nbformat_minor": 2
}
